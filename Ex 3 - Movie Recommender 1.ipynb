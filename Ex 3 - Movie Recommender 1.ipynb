{
 "cells": [
  {
   "cell_type": "markdown",
   "metadata": {},
   "source": [
    "Content-based recommender is the recommending system to rely on the similarity of items when it recommends items to users. For example, when a user likes a specific movie, the system finds and recommends the items which have similar features to the movie the user likes."
   ]
  },
  {
   "cell_type": "code",
   "execution_count": null,
   "metadata": {},
   "outputs": [],
   "source": [
    "# Based on content based collaborative filtering\n",
    "import pandas as pd\n",
    "import numpy as np\n",
    "import matplotlib.pyplot as plt"
   ]
  },
  {
   "cell_type": "code",
   "execution_count": null,
   "metadata": {},
   "outputs": [],
   "source": [
    "# get data from S3\n",
    "# reference to S3\n",
    "import boto3\n",
    "import io\n",
    "\n",
    "bucket='sagemaker-sangam-2021'\n",
    "movie_file = 'movies.csv'\n",
    "\n",
    "# create S3 client\n",
    "s3_client = boto3.client('s3')\n",
    "\n",
    "obj = s3_client.get_object(Bucket=bucket, Key=movie_file)\n",
    "\n",
    "movies = pd.read_csv(io.BytesIO(obj['Body'].read()))\n",
    "\n",
    "movies.head()"
   ]
  },
  {
   "cell_type": "code",
   "execution_count": null,
   "metadata": {},
   "outputs": [],
   "source": [
    "movies.shape"
   ]
  },
  {
   "cell_type": "code",
   "execution_count": null,
   "metadata": {},
   "outputs": [],
   "source": [
    "# create a function to create a table showing the numbers of missing values for each feature\n",
    "def create_missing_df(dataframe):\n",
    "  \n",
    "  missing_index = dataframe.columns.tolist() \n",
    "  missing = dataframe.isnull().sum().tolist()\n",
    "  missing_df = pd.DataFrame({'Missing':missing}, index=missing_index)\n",
    "\n",
    "  return missing_df"
   ]
  },
  {
   "cell_type": "code",
   "execution_count": null,
   "metadata": {},
   "outputs": [],
   "source": [
    "create_missing_df(movies)"
   ]
  },
  {
   "cell_type": "markdown",
   "metadata": {},
   "source": [
    "The column title has title and year embedded ...creating two functions to split title and year"
   ]
  },
  {
   "cell_type": "code",
   "execution_count": null,
   "metadata": {},
   "outputs": [],
   "source": [
    "# the function to extract titles\n",
    "def extract_title(title):\n",
    "\n",
    "  year = title[len(title)-5:len(title)-1]\n",
    "\n",
    "  # some movies do not have the info about year in the column title. So, we should take care of the case as well.\n",
    "  if year.isnumeric():\n",
    "    title_no_year = title[:len(title)-7]\n",
    "    return title_no_year\n",
    "\n",
    "  else:\n",
    "    return title"
   ]
  },
  {
   "cell_type": "code",
   "execution_count": null,
   "metadata": {},
   "outputs": [],
   "source": [
    "# the function to extract years\n",
    "def extract_year(title):\n",
    "\n",
    "  year = title[len(title)-5:len(title)-1]\n",
    "\n",
    "  # some movies do not have the info about year in the column title. So, we should take care of the case as well.\n",
    "  if year.isnumeric():\n",
    "    return int(year)\n",
    "\n",
    "  else:\n",
    "    return np.nan"
   ]
  },
  {
   "cell_type": "code",
   "execution_count": null,
   "metadata": {},
   "outputs": [],
   "source": [
    "movies.rename(columns={'title':'title_year'}, inplace=True) # change the column name from title to title_year\n",
    "movies['title_year'] = movies['title_year'].apply(lambda x: x.strip()) # remove leading and ending whitespaces in title_year\n",
    "movies['title'] = movies['title_year'].apply(extract_title) # create the column for title\n",
    "movies['year'] = movies['title_year'].apply(extract_year) # create the column for year"
   ]
  },
  {
   "cell_type": "code",
   "execution_count": null,
   "metadata": {},
   "outputs": [],
   "source": [
    "create_missing_df(movies)"
   ]
  },
  {
   "cell_type": "markdown",
   "metadata": {},
   "source": [
    "The column genres is the only feature used for this recommending system"
   ]
  },
  {
   "cell_type": "code",
   "execution_count": null,
   "metadata": {},
   "outputs": [],
   "source": [
    "r,c = movies[movies['genres']=='(no genres listed)'].shape \n",
    "print('The number of movies which do not have info about genres:',r)"
   ]
  },
  {
   "cell_type": "code",
   "execution_count": null,
   "metadata": {},
   "outputs": [],
   "source": [
    "# since genre is the main feature, deleting all moviews which have no genre\n",
    "movies = movies[~(movies['genres']=='(no genres listed)')].reset_index(drop=True)"
   ]
  },
  {
   "cell_type": "code",
   "execution_count": null,
   "metadata": {},
   "outputs": [],
   "source": [
    "# movies have multiple genre too\n",
    "movies[['title','genres']].head(5)"
   ]
  },
  {
   "cell_type": "markdown",
   "metadata": {},
   "source": [
    "Let's see how many times each genre appears in the data."
   ]
  },
  {
   "cell_type": "code",
   "execution_count": null,
   "metadata": {},
   "outputs": [],
   "source": [
    "# remove '|' in the genres column\n",
    "movies['genres'] = movies['genres'].str.replace('|',' ')"
   ]
  },
  {
   "cell_type": "code",
   "execution_count": null,
   "metadata": {},
   "outputs": [],
   "source": [
    "# count the number of occurences for each genre in the data set\n",
    "counts = dict()\n",
    "\n",
    "for i in movies.index:\n",
    "  for g in movies.loc[i,'genres'].split(' '):\n",
    "    if g not in counts:\n",
    "      counts[g] = 1\n",
    "    else:\n",
    "      counts[g] = counts[g] + 1"
   ]
  },
  {
   "cell_type": "code",
   "execution_count": null,
   "metadata": {},
   "outputs": [],
   "source": [
    "plt.figure(figsize=(12,6))\n",
    "plt.bar(list(counts.keys()), counts.values(), color='g')\n",
    "plt.xticks(rotation=45)\n",
    "plt.xlabel('Genres')\n",
    "plt.ylabel('Counts')"
   ]
  },
  {
   "cell_type": "markdown",
   "metadata": {},
   "source": [
    "Term Frequency and Inverse Document Frequency (tf-idf)\n",
    "\n",
    "The TfidVectorizer() class from the sklearn.feature_extraction.text library helps us to calculate the tf-idf scores for each genre in each movie."
   ]
  },
  {
   "cell_type": "code",
   "execution_count": null,
   "metadata": {},
   "outputs": [],
   "source": [
    "from sklearn.feature_extraction.text import TfidfVectorizer\n",
    "\n",
    "movies['genres'] = movies['genres'].str.replace('Sci-Fi','SciFi')\n",
    "movies['genres'] = movies['genres'].str.replace('Film-Noir','Noir')\n",
    "\n",
    "tfidf_vector = TfidfVectorizer(stop_words='english') # create an object for TfidfVectorizer\n",
    "tfidf_matrix = tfidf_vector.fit_transform(movies['genres']) # apply the object to the genres column"
   ]
  },
  {
   "cell_type": "code",
   "execution_count": null,
   "metadata": {},
   "outputs": [],
   "source": [
    "print(list(enumerate(tfidf_vector.get_feature_names())))"
   ]
  },
  {
   "cell_type": "markdown",
   "metadata": {},
   "source": [
    "Let's see the examples of the vectorization for the first 5 movies."
   ]
  },
  {
   "cell_type": "code",
   "execution_count": null,
   "metadata": {},
   "outputs": [],
   "source": [
    "print(tfidf_matrix[:5])"
   ]
  },
  {
   "cell_type": "markdown",
   "metadata": {},
   "source": [
    "The first argument in the index above is the same as the index in the dataframe movies (Not movieId), and the second argument represents the index number of genres. The numbers in the second argument correspond to the index number in the previous code output. [(0, 'action'), (1, 'adventure'), (3, 'children'),...] For example, (0,8) = 0.4830 means that movie index = 0 (Toy Story), genre index = 8 ('fantasy'), and the tf-idf score = 0.4830. The tf-idf score of comedy for Toy Story is (0,4)=0.2674. As mentioned earlier, the comedy has lower score than fantasy because it is very common genre in the whole data set, and is considered less important in defining the genre of the movie."
   ]
  },
  {
   "cell_type": "code",
   "execution_count": null,
   "metadata": {},
   "outputs": [],
   "source": [
    "tfidf_matrix.shape"
   ]
  },
  {
   "cell_type": "code",
   "execution_count": null,
   "metadata": {},
   "outputs": [],
   "source": [
    "# the first row vector of tfidf_matrix (Toy Story)\n",
    "tfidf_matrix.todense()[0]"
   ]
  },
  {
   "cell_type": "markdown",
   "metadata": {},
   "source": [
    "Next, let's caculate the similarity between two movies using the tf-idf matrix. The cosine similarity is used to calculate the similarity, and linear_kernel() class is used to calculate this."
   ]
  },
  {
   "cell_type": "code",
   "execution_count": null,
   "metadata": {},
   "outputs": [],
   "source": [
    "from sklearn.metrics.pairwise import linear_kernel"
   ]
  },
  {
   "cell_type": "code",
   "execution_count": null,
   "metadata": {},
   "outputs": [],
   "source": [
    "sim_matrix = linear_kernel(tfidf_matrix,tfidf_matrix) # create the cosine similarity matrix\n",
    "print(sim_matrix)"
   ]
  },
  {
   "cell_type": "markdown",
   "metadata": {},
   "source": [
    "sim_matrix$_{ij}$ is the similarity score between movie $i$ and movie $j$.Therefore, the diagonal elements in the matrix represent the similarity scores of a movie with itself, and therefore, the value should be 1. By the definition of the matrix, sim_matrix$_{ij}$ = sim_matrix$_{ji}$"
   ]
  },
  {
   "cell_type": "markdown",
   "metadata": {},
   "source": [
    "the Recommendation Engine"
   ]
  },
  {
   "cell_type": "code",
   "execution_count": null,
   "metadata": {},
   "outputs": [],
   "source": [
    "# the function to convert from index to title_year\n",
    "def get_title_year_from_index(index):\n",
    "\n",
    "  return movies[movies.index == index]['title_year'].values[0]\n",
    "\n",
    "# the function to convert from title to index\n",
    "def get_index_from_title(title):\n",
    "\n",
    "  return movies[movies.title == title].index.values[0]\n",
    "\n",
    "# a function to convert index to title\n",
    "def get_title_from_index(index):\n",
    "\n",
    "  return movies[movies.index == index]['title'].values[0]"
   ]
  },
  {
   "cell_type": "markdown",
   "metadata": {},
   "source": [
    "Apply Levenshtein Distance for 'Did you mean?' Algorithm"
   ]
  },
  {
   "cell_type": "markdown",
   "metadata": {},
   "source": [
    "We often misspell titles of movies when we use movie recommending system. When we use Google to search movies, if we misspell the title of the movie, we see that Google asks us, 'Did you mean...?'. Let's create the similar function to correct misspelled title in order to make the system work easily. I apply Levenshtein Distance in order to implement 'Did you mean...?' algorithm. fuzzywuzzy library in Python provides fuzz class for the Levenshtein Distance."
   ]
  },
  {
   "cell_type": "code",
   "execution_count": null,
   "metadata": {},
   "outputs": [],
   "source": [
    "!pip install fuzzywuzzy"
   ]
  },
  {
   "cell_type": "code",
   "execution_count": null,
   "metadata": {},
   "outputs": [],
   "source": [
    "!pip install python-Levenshtein"
   ]
  },
  {
   "cell_type": "code",
   "execution_count": null,
   "metadata": {},
   "outputs": [],
   "source": [
    "from fuzzywuzzy import fuzz"
   ]
  },
  {
   "cell_type": "code",
   "execution_count": null,
   "metadata": {},
   "outputs": [],
   "source": [
    "# create a function to find the closest title\n",
    "def matching_score(a,b):\n",
    "\n",
    "  return fuzz.ratio(a,b)"
   ]
  },
  {
   "cell_type": "markdown",
   "metadata": {},
   "source": [
    "fuzz.ratio(a,b) calculates the Levenshtein Distance between a and b, and return the score for the distance. If the two words, a and b, are exactly the same, the score becomes 100. As the distance between the words increases, the score falls."
   ]
  },
  {
   "cell_type": "code",
   "execution_count": null,
   "metadata": {},
   "outputs": [],
   "source": [
    "# the function to return the most similar title to the words a user types\n",
    "# The function find_closest_title() is supposed to return the most similar title to the words a user types. \n",
    "# Without this, the recommending system only works when the movie title a user types is exactly the same \n",
    "# as the movie title the system has\n",
    "\n",
    "def find_closest_title(title):\n",
    "\n",
    "  leven_scores = list(enumerate(movies['title'].apply(matching_score, b=title)))\n",
    "  sorted_leven_scores = sorted(leven_scores, key=lambda x: x[1], reverse=True)\n",
    "  closest_title = get_title_from_index(sorted_leven_scores[0][0])\n",
    "  distance_score = sorted_leven_scores[0][1]\n",
    "\n",
    "  return closest_title, distance_score"
   ]
  },
  {
   "cell_type": "code",
   "execution_count": null,
   "metadata": {},
   "outputs": [],
   "source": [
    "# the main recommender\n",
    "def contents_based_recommender(movie_user_likes, how_many):\n",
    "\n",
    "  closest_title, distance_score = find_closest_title(movie_user_likes)\n",
    "\n",
    "  if distance_score == 100:\n",
    "\n",
    "    movie_index = get_index_from_title(closest_title)\n",
    "    movie_list = list(enumerate(sim_matrix[int(movie_index)]))\n",
    "    similar_movies = list(filter(lambda x:x[0] != int(movie_index), sorted(movie_list,key=lambda x:x[1], reverse=True))) # remove the typed movie itself\n",
    "\n",
    "    print('Here\\'s the list of movies similar to '+'\\033[1m'+str(closest_title)+'\\033[0m'+'.\\n')\n",
    "\n",
    "    for i,s in similar_movies[:how_many]: \n",
    "      print(get_title_year_from_index(i))\n",
    "    \n",
    "\n",
    "  else:\n",
    "    print('Did you mean '+'\\033[1m'+str(closest_title)+'\\033[0m'+'?','\\n')\n",
    "\n",
    "    movie_index = get_index_from_title(closest_title)\n",
    "    movie_list = list(enumerate(sim_matrix[int(movie_index)]))\n",
    "    similar_movies = list(filter(lambda x:x[0] != int(movie_index), sorted(movie_list,key=lambda x:x[1], reverse=True)))\n",
    "\n",
    "    print('Here\\'s the list of movies similar to '+'\\033[1m'+str(closest_title)+'\\033[0m'+'.\\n')\n",
    "\n",
    "    for i,s in similar_movies[:how_many]:\n",
    "      print(get_title_year_from_index(i))"
   ]
  },
  {
   "cell_type": "code",
   "execution_count": null,
   "metadata": {},
   "outputs": [],
   "source": [
    "# testing the system\n",
    "contents_based_recommender('Monsters, Inc.', 5)"
   ]
  },
  {
   "cell_type": "code",
   "execution_count": null,
   "metadata": {},
   "outputs": [],
   "source": [
    "# testing with incorrect name\n",
    "\n",
    "contents_based_recommender('Monster Incorporation.', 5)"
   ]
  },
  {
   "cell_type": "code",
   "execution_count": null,
   "metadata": {},
   "outputs": [],
   "source": [
    "# testing the system\n",
    "contents_based_recommender('Grumpier Old Men', 5)"
   ]
  },
  {
   "cell_type": "code",
   "execution_count": null,
   "metadata": {},
   "outputs": [],
   "source": [
    "# testing the system\n",
    "contents_based_recommender('Grumpr Ol Men', 5)"
   ]
  },
  {
   "cell_type": "code",
   "execution_count": null,
   "metadata": {},
   "outputs": [],
   "source": []
  }
 ],
 "metadata": {
  "instance_type": "ml.t3.medium",
  "kernelspec": {
   "display_name": "Python 3 (Data Science)",
   "language": "python",
   "name": "python3__SAGEMAKER_INTERNAL__arn:aws:sagemaker:us-east-1:081325390199:image/datascience-1.0"
  },
  "language_info": {
   "codemirror_mode": {
    "name": "ipython",
    "version": 3
   },
   "file_extension": ".py",
   "mimetype": "text/x-python",
   "name": "python",
   "nbconvert_exporter": "python",
   "pygments_lexer": "ipython3",
   "version": "3.7.10"
  }
 },
 "nbformat": 4,
 "nbformat_minor": 5
}
