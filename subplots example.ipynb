{
 "cells": [
  {
   "cell_type": "code",
   "execution_count": null,
   "metadata": {},
   "outputs": [],
   "source": [
    "%pip install matplotlib"
   ]
  },
  {
   "cell_type": "code",
   "execution_count": null,
   "metadata": {},
   "outputs": [],
   "source": [
    "import matplotlib.pyplot as plt\n",
    "import numpy as np"
   ]
  },
  {
   "cell_type": "code",
   "execution_count": null,
   "metadata": {},
   "outputs": [],
   "source": [
    "# simple plot\n",
    "# Some example data to display\n",
    "x = np.linspace(0, 2 * np.pi, 400)\n",
    "y = np.sin(x ** 2)\n",
    "fig, ax = plt.subplots()\n",
    "ax.plot(x, y)\n",
    "ax.set_title('A single plot')"
   ]
  },
  {
   "cell_type": "code",
   "execution_count": null,
   "metadata": {},
   "outputs": [],
   "source": [
    "# stacking plot in one direction\n",
    "fig, axs = plt.subplots(2)\n",
    "fig.suptitle('Vertically stacked subplots')\n",
    "axs[0].plot(x, y)\n",
    "axs[1].plot(x, -y)"
   ]
  },
  {
   "cell_type": "code",
   "execution_count": null,
   "metadata": {},
   "outputs": [],
   "source": [
    "# side-by-side plot\n",
    "fig, (ax1, ax2) = plt.subplots(1, 2)\n",
    "fig.suptitle('Horizontally stacked subplots')\n",
    "ax1.plot(x, y)\n",
    "ax2.plot(x, -y)"
   ]
  },
  {
   "cell_type": "code",
   "execution_count": null,
   "metadata": {},
   "outputs": [],
   "source": [
    "# complex layout\n",
    "fig, axs = plt.subplots(2, 2)\n",
    "axs[0, 0].plot(x, y)\n",
    "axs[0, 0].set_title(\"main\")\n",
    "axs[1, 0].plot(x, y**2)\n",
    "axs[1, 0].set_title(\"shares x with main\")\n",
    "axs[1, 0].sharex(axs[0, 0])\n",
    "axs[0, 1].plot(x + 1, y + 1,'tab:orange')\n",
    "axs[0, 1].set_title(\"unrelated\")\n",
    "axs[1, 1].plot(x + 2, y + 2)\n",
    "axs[1, 1].set_title(\"also unrelated\")\n",
    "fig.tight_layout()"
   ]
  },
  {
   "cell_type": "markdown",
   "metadata": {},
   "source": [
    "REf https://www.geeksforgeeks.org/extract-dominant-colors-of-an-image-using-python/"
   ]
  },
  {
   "cell_type": "code",
   "execution_count": null,
   "metadata": {},
   "outputs": [],
   "source": [
    "import matplotlib.image as img\n",
    "import matplotlib.pyplot as plt\n",
    "from scipy.cluster.vq import whiten\n",
    "from scipy.cluster.vq import kmeans\n",
    "import pandas as pd\n",
    " \n",
    "batman_image = img.imread('./images/Red.jpg')\n",
    " \n",
    "r = []\n",
    "g = []\n",
    "b = []\n",
    "for row in batman_image:\n",
    "    for temp_r, temp_g, temp_b in row:\n",
    "        r.append(temp_r)\n",
    "        g.append(temp_g)\n",
    "        b.append(temp_b)\n",
    "  \n",
    "batman_df = pd.DataFrame({'red' : r,\n",
    "                          'green' : g,\n",
    "                          'blue' : b})\n",
    " \n",
    "batman_df['scaled_color_red'] = whiten(batman_df['red'])\n",
    "batman_df['scaled_color_blue'] = whiten(batman_df['blue'])\n",
    "batman_df['scaled_color_green'] = whiten(batman_df['green'])\n",
    " \n",
    "cluster_centers, _ = kmeans(batman_df[['scaled_color_red',\n",
    "                                    'scaled_color_blue',\n",
    "                                    'scaled_color_green']], 3)\n",
    " \n",
    "dominant_colors = []\n",
    " \n",
    "red_std, green_std, blue_std = batman_df[['red',\n",
    "                                          'green',\n",
    "                                          'blue']].std()\n",
    " \n",
    "for cluster_center in cluster_centers:\n",
    "    red_scaled, green_scaled, blue_scaled = cluster_center\n",
    "    dominant_colors.append((\n",
    "        red_scaled * red_std / 255,\n",
    "        green_scaled * green_std / 255,\n",
    "        blue_scaled * blue_std / 255\n",
    "    ))\n",
    " \n",
    "plt.imshow([dominant_colors])\n",
    "plt.show()"
   ]
  },
  {
   "cell_type": "code",
   "execution_count": null,
   "metadata": {},
   "outputs": [],
   "source": [
    "%pip install webcolors"
   ]
  },
  {
   "cell_type": "code",
   "execution_count": 16,
   "metadata": {},
   "outputs": [
    {
     "name": "stdout",
     "output_type": "stream",
     "text": [
      "closest match: firebrick\n"
     ]
    }
   ],
   "source": [
    "# ref: https://medium.com/codex/rgb-to-color-names-in-python-the-robust-way-ec4a9d97a01f\n",
    "\n",
    "from scipy.spatial import KDTree\n",
    "\n",
    "import webcolors\n",
    "#from webcolors import css3_hex_to_names\n",
    "\n",
    "#from webcolors import hex_to_rgb,\n",
    "\n",
    "def convert_rgb_to_names(rgb_tuple):\n",
    "    \n",
    "    # a dictionary of all the hex and their respective names in css3\n",
    "    css3_db = webcolors.CSS3_HEX_TO_NAMES\n",
    "    names = []\n",
    "    rgb_values = []\n",
    "    for color_hex, color_name in css3_db.items():\n",
    "        names.append(color_name)\n",
    "        rgb_values.append(webcolors.hex_to_rgb(color_hex))\n",
    "    \n",
    "    kdt_db = KDTree(rgb_values)\n",
    "    distance, index = kdt_db.query(rgb_tuple)\n",
    "    return f'closest match: {names[index]}'\n",
    "\n",
    "\n",
    "print(convert_rgb_to_names((190,53,25)))"
   ]
  },
  {
   "cell_type": "code",
   "execution_count": 7,
   "metadata": {},
   "outputs": [
    {
     "name": "stdout",
     "output_type": "stream",
     "text": [
      "red\n"
     ]
    }
   ],
   "source": [
    "from webcolors import rgb_to_name\n",
    "named_color = rgb_to_name((255,0,0), spec='css3')\n",
    "print(named_color)"
   ]
  },
  {
   "cell_type": "code",
   "execution_count": 17,
   "metadata": {},
   "outputs": [
    {
     "name": "stdout",
     "output_type": "stream",
     "text": [
      "Actual color name: None , closest color name: firebrick\n"
     ]
    }
   ],
   "source": [
    "import webcolors\n",
    "\n",
    "def closest_colour(requested_colour):\n",
    "    min_colours = {}\n",
    "    for key, name in webcolors.CSS3_HEX_TO_NAMES.items():\n",
    "        r_c, g_c, b_c = webcolors.hex_to_rgb(key)\n",
    "        rd = (r_c - requested_colour[0]) ** 2\n",
    "        gd = (g_c - requested_colour[1]) ** 2\n",
    "        bd = (b_c - requested_colour[2]) ** 2\n",
    "        min_colours[(rd + gd + bd)] = name\n",
    "    return min_colours[min(min_colours.keys())]\n",
    "\n",
    "def get_colour_name(requested_colour):\n",
    "    try:\n",
    "        closest_name = actual_name = webcolors.rgb_to_name(requested_colour)\n",
    "    except ValueError:\n",
    "        closest_name = closest_colour(requested_colour)\n",
    "        actual_name = None\n",
    "    return actual_name, closest_name\n",
    "\n",
    "requested_colour = (190,53,25)\n",
    "actual_name, closest_name = get_colour_name(requested_colour)\n",
    "\n",
    "print (\"Actual color name:\", actual_name, \", closest color name:\", closest_name)"
   ]
  },
  {
   "cell_type": "code",
   "execution_count": null,
   "metadata": {},
   "outputs": [],
   "source": []
  }
 ],
 "metadata": {
  "instance_type": "ml.t3.medium",
  "kernelspec": {
   "display_name": "Python 3 (MXNet 1.6 Python 3.6 CPU Optimized)",
   "language": "python",
   "name": "python3__SAGEMAKER_INTERNAL__arn:aws:sagemaker:us-east-1:081325390199:image/mxnet-1.6-cpu-py36"
  },
  "language_info": {
   "codemirror_mode": {
    "name": "ipython",
    "version": 3
   },
   "file_extension": ".py",
   "mimetype": "text/x-python",
   "name": "python",
   "nbconvert_exporter": "python",
   "pygments_lexer": "ipython3",
   "version": "3.6.13"
  }
 },
 "nbformat": 4,
 "nbformat_minor": 4
}
