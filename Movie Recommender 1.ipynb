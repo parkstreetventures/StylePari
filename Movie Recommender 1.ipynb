{
 "cells": [
  {
   "cell_type": "markdown",
   "id": "30f2f906",
   "metadata": {},
   "source": [
    "Content-based recommender is the recommending system to rely on the similarity of items when it recommends items to users. For example, when a user likes a specific movie, the system finds and recommends the items which have similar features to the movie the user likes."
   ]
  },
  {
   "cell_type": "code",
   "execution_count": 1,
   "id": "7a29e176",
   "metadata": {},
   "outputs": [],
   "source": [
    "# Based on content based collaborative filtering\n",
    "import pandas as pd\n",
    "import numpy as np\n",
    "import matplotlib.pyplot as plt"
   ]
  },
  {
   "cell_type": "code",
   "execution_count": 3,
   "id": "902ec103",
   "metadata": {},
   "outputs": [
    {
     "data": {
      "text/html": [
       "<div>\n",
       "<style scoped>\n",
       "    .dataframe tbody tr th:only-of-type {\n",
       "        vertical-align: middle;\n",
       "    }\n",
       "\n",
       "    .dataframe tbody tr th {\n",
       "        vertical-align: top;\n",
       "    }\n",
       "\n",
       "    .dataframe thead th {\n",
       "        text-align: right;\n",
       "    }\n",
       "</style>\n",
       "<table border=\"1\" class=\"dataframe\">\n",
       "  <thead>\n",
       "    <tr style=\"text-align: right;\">\n",
       "      <th></th>\n",
       "      <th>movieId</th>\n",
       "      <th>title</th>\n",
       "      <th>genres</th>\n",
       "    </tr>\n",
       "  </thead>\n",
       "  <tbody>\n",
       "    <tr>\n",
       "      <th>0</th>\n",
       "      <td>1</td>\n",
       "      <td>Toy Story (1995)</td>\n",
       "      <td>Adventure|Animation|Children|Comedy|Fantasy</td>\n",
       "    </tr>\n",
       "    <tr>\n",
       "      <th>1</th>\n",
       "      <td>2</td>\n",
       "      <td>Jumanji (1995)</td>\n",
       "      <td>Adventure|Children|Fantasy</td>\n",
       "    </tr>\n",
       "    <tr>\n",
       "      <th>2</th>\n",
       "      <td>3</td>\n",
       "      <td>Grumpier Old Men (1995)</td>\n",
       "      <td>Comedy|Romance</td>\n",
       "    </tr>\n",
       "    <tr>\n",
       "      <th>3</th>\n",
       "      <td>4</td>\n",
       "      <td>Waiting to Exhale (1995)</td>\n",
       "      <td>Comedy|Drama|Romance</td>\n",
       "    </tr>\n",
       "    <tr>\n",
       "      <th>4</th>\n",
       "      <td>5</td>\n",
       "      <td>Father of the Bride Part II (1995)</td>\n",
       "      <td>Comedy</td>\n",
       "    </tr>\n",
       "  </tbody>\n",
       "</table>\n",
       "</div>"
      ],
      "text/plain": [
       "   movieId                               title  \\\n",
       "0        1                    Toy Story (1995)   \n",
       "1        2                      Jumanji (1995)   \n",
       "2        3             Grumpier Old Men (1995)   \n",
       "3        4            Waiting to Exhale (1995)   \n",
       "4        5  Father of the Bride Part II (1995)   \n",
       "\n",
       "                                        genres  \n",
       "0  Adventure|Animation|Children|Comedy|Fantasy  \n",
       "1                   Adventure|Children|Fantasy  \n",
       "2                               Comedy|Romance  \n",
       "3                         Comedy|Drama|Romance  \n",
       "4                                       Comedy  "
      ]
     },
     "execution_count": 3,
     "metadata": {},
     "output_type": "execute_result"
    }
   ],
   "source": [
    "# get data from S3\n",
    "# reference to S3\n",
    "import boto3\n",
    "import io\n",
    "\n",
    "bucket='sagemaker-sangam-2021'\n",
    "movie_file = 'movies.csv'\n",
    "\n",
    "# create S3 client\n",
    "s3_client = boto3.client('s3')\n",
    "\n",
    "obj = s3_client.get_object(Bucket=bucket, Key=movie_file)\n",
    "\n",
    "movies = pd.read_csv(io.BytesIO(obj['Body'].read()))\n",
    "\n",
    "movies.head()"
   ]
  },
  {
   "cell_type": "code",
   "execution_count": 4,
   "id": "816891e0",
   "metadata": {},
   "outputs": [
    {
     "data": {
      "text/plain": [
       "(9742, 3)"
      ]
     },
     "execution_count": 4,
     "metadata": {},
     "output_type": "execute_result"
    }
   ],
   "source": [
    "movies.shape"
   ]
  },
  {
   "cell_type": "code",
   "execution_count": 5,
   "id": "08172e4a",
   "metadata": {},
   "outputs": [],
   "source": [
    "# create a function to create a table showing the numbers of missing values for each feature\n",
    "def create_missing_df(dataframe):\n",
    "  \n",
    "  missing_index = dataframe.columns.tolist() \n",
    "  missing = dataframe.isnull().sum().tolist()\n",
    "  missing_df = pd.DataFrame({'Missing':missing}, index=missing_index)\n",
    "\n",
    "  return missing_df"
   ]
  },
  {
   "cell_type": "code",
   "execution_count": 6,
   "id": "6bafbf73",
   "metadata": {},
   "outputs": [
    {
     "data": {
      "text/html": [
       "<div>\n",
       "<style scoped>\n",
       "    .dataframe tbody tr th:only-of-type {\n",
       "        vertical-align: middle;\n",
       "    }\n",
       "\n",
       "    .dataframe tbody tr th {\n",
       "        vertical-align: top;\n",
       "    }\n",
       "\n",
       "    .dataframe thead th {\n",
       "        text-align: right;\n",
       "    }\n",
       "</style>\n",
       "<table border=\"1\" class=\"dataframe\">\n",
       "  <thead>\n",
       "    <tr style=\"text-align: right;\">\n",
       "      <th></th>\n",
       "      <th>Missing</th>\n",
       "    </tr>\n",
       "  </thead>\n",
       "  <tbody>\n",
       "    <tr>\n",
       "      <th>movieId</th>\n",
       "      <td>0</td>\n",
       "    </tr>\n",
       "    <tr>\n",
       "      <th>title</th>\n",
       "      <td>0</td>\n",
       "    </tr>\n",
       "    <tr>\n",
       "      <th>genres</th>\n",
       "      <td>0</td>\n",
       "    </tr>\n",
       "  </tbody>\n",
       "</table>\n",
       "</div>"
      ],
      "text/plain": [
       "         Missing\n",
       "movieId        0\n",
       "title          0\n",
       "genres         0"
      ]
     },
     "execution_count": 6,
     "metadata": {},
     "output_type": "execute_result"
    }
   ],
   "source": [
    "create_missing_df(movies)"
   ]
  },
  {
   "cell_type": "markdown",
   "id": "d56b501b",
   "metadata": {},
   "source": [
    "The column title has title and year embedded ...creating two functions to split title and year"
   ]
  },
  {
   "cell_type": "code",
   "execution_count": 7,
   "id": "ac8814d1",
   "metadata": {},
   "outputs": [],
   "source": [
    "# the function to extract titles\n",
    "def extract_title(title):\n",
    "\n",
    "  year = title[len(title)-5:len(title)-1]\n",
    "\n",
    "  # some movies do not have the info about year in the column title. So, we should take care of the case as well.\n",
    "  if year.isnumeric():\n",
    "    title_no_year = title[:len(title)-7]\n",
    "    return title_no_year\n",
    "\n",
    "  else:\n",
    "    return title"
   ]
  },
  {
   "cell_type": "code",
   "execution_count": 8,
   "id": "65617902",
   "metadata": {},
   "outputs": [],
   "source": [
    "# the function to extract years\n",
    "def extract_year(title):\n",
    "\n",
    "  year = title[len(title)-5:len(title)-1]\n",
    "\n",
    "  # some movies do not have the info about year in the column title. So, we should take care of the case as well.\n",
    "  if year.isnumeric():\n",
    "    return int(year)\n",
    "\n",
    "  else:\n",
    "    return np.nan"
   ]
  },
  {
   "cell_type": "code",
   "execution_count": 9,
   "id": "e692b1fb",
   "metadata": {},
   "outputs": [],
   "source": [
    "movies.rename(columns={'title':'title_year'}, inplace=True) # change the column name from title to title_year\n",
    "movies['title_year'] = movies['title_year'].apply(lambda x: x.strip()) # remove leading and ending whitespaces in title_year\n",
    "movies['title'] = movies['title_year'].apply(extract_title) # create the column for title\n",
    "movies['year'] = movies['title_year'].apply(extract_year) # create the column for year"
   ]
  },
  {
   "cell_type": "code",
   "execution_count": 10,
   "id": "ae63ed2f",
   "metadata": {},
   "outputs": [
    {
     "data": {
      "text/html": [
       "<div>\n",
       "<style scoped>\n",
       "    .dataframe tbody tr th:only-of-type {\n",
       "        vertical-align: middle;\n",
       "    }\n",
       "\n",
       "    .dataframe tbody tr th {\n",
       "        vertical-align: top;\n",
       "    }\n",
       "\n",
       "    .dataframe thead th {\n",
       "        text-align: right;\n",
       "    }\n",
       "</style>\n",
       "<table border=\"1\" class=\"dataframe\">\n",
       "  <thead>\n",
       "    <tr style=\"text-align: right;\">\n",
       "      <th></th>\n",
       "      <th>Missing</th>\n",
       "    </tr>\n",
       "  </thead>\n",
       "  <tbody>\n",
       "    <tr>\n",
       "      <th>movieId</th>\n",
       "      <td>0</td>\n",
       "    </tr>\n",
       "    <tr>\n",
       "      <th>title_year</th>\n",
       "      <td>0</td>\n",
       "    </tr>\n",
       "    <tr>\n",
       "      <th>genres</th>\n",
       "      <td>0</td>\n",
       "    </tr>\n",
       "    <tr>\n",
       "      <th>title</th>\n",
       "      <td>0</td>\n",
       "    </tr>\n",
       "    <tr>\n",
       "      <th>year</th>\n",
       "      <td>12</td>\n",
       "    </tr>\n",
       "  </tbody>\n",
       "</table>\n",
       "</div>"
      ],
      "text/plain": [
       "            Missing\n",
       "movieId           0\n",
       "title_year        0\n",
       "genres            0\n",
       "title             0\n",
       "year             12"
      ]
     },
     "execution_count": 10,
     "metadata": {},
     "output_type": "execute_result"
    }
   ],
   "source": [
    "create_missing_df(movies)"
   ]
  },
  {
   "cell_type": "markdown",
   "id": "dc40a0c0",
   "metadata": {},
   "source": [
    "The column genres is the only feature used for this recommending system"
   ]
  },
  {
   "cell_type": "code",
   "execution_count": 13,
   "id": "a6ddd8ed",
   "metadata": {},
   "outputs": [
    {
     "name": "stdout",
     "output_type": "stream",
     "text": [
      "The number of movies which do not have info about genres: 0\n"
     ]
    }
   ],
   "source": [
    "r,c = movies[movies['genres']=='(no genres listed)'].shape \n",
    "print('The number of movies which do not have info about genres:',r)"
   ]
  },
  {
   "cell_type": "code",
   "execution_count": 12,
   "id": "a17f4480",
   "metadata": {},
   "outputs": [],
   "source": [
    "# since genre is the main feature, deleting all moviews which have no genre\n",
    "movies = movies[~(movies['genres']=='(no genres listed)')].reset_index(drop=True)"
   ]
  },
  {
   "cell_type": "code",
   "execution_count": 14,
   "id": "77af4b2b",
   "metadata": {},
   "outputs": [
    {
     "data": {
      "text/html": [
       "<div>\n",
       "<style scoped>\n",
       "    .dataframe tbody tr th:only-of-type {\n",
       "        vertical-align: middle;\n",
       "    }\n",
       "\n",
       "    .dataframe tbody tr th {\n",
       "        vertical-align: top;\n",
       "    }\n",
       "\n",
       "    .dataframe thead th {\n",
       "        text-align: right;\n",
       "    }\n",
       "</style>\n",
       "<table border=\"1\" class=\"dataframe\">\n",
       "  <thead>\n",
       "    <tr style=\"text-align: right;\">\n",
       "      <th></th>\n",
       "      <th>title</th>\n",
       "      <th>genres</th>\n",
       "    </tr>\n",
       "  </thead>\n",
       "  <tbody>\n",
       "    <tr>\n",
       "      <th>0</th>\n",
       "      <td>Toy Story</td>\n",
       "      <td>Adventure|Animation|Children|Comedy|Fantasy</td>\n",
       "    </tr>\n",
       "    <tr>\n",
       "      <th>1</th>\n",
       "      <td>Jumanji</td>\n",
       "      <td>Adventure|Children|Fantasy</td>\n",
       "    </tr>\n",
       "    <tr>\n",
       "      <th>2</th>\n",
       "      <td>Grumpier Old Men</td>\n",
       "      <td>Comedy|Romance</td>\n",
       "    </tr>\n",
       "    <tr>\n",
       "      <th>3</th>\n",
       "      <td>Waiting to Exhale</td>\n",
       "      <td>Comedy|Drama|Romance</td>\n",
       "    </tr>\n",
       "    <tr>\n",
       "      <th>4</th>\n",
       "      <td>Father of the Bride Part II</td>\n",
       "      <td>Comedy</td>\n",
       "    </tr>\n",
       "  </tbody>\n",
       "</table>\n",
       "</div>"
      ],
      "text/plain": [
       "                         title                                       genres\n",
       "0                    Toy Story  Adventure|Animation|Children|Comedy|Fantasy\n",
       "1                      Jumanji                   Adventure|Children|Fantasy\n",
       "2             Grumpier Old Men                               Comedy|Romance\n",
       "3            Waiting to Exhale                         Comedy|Drama|Romance\n",
       "4  Father of the Bride Part II                                       Comedy"
      ]
     },
     "execution_count": 14,
     "metadata": {},
     "output_type": "execute_result"
    }
   ],
   "source": [
    "# movies have multiple genre too\n",
    "movies[['title','genres']].head(5)"
   ]
  },
  {
   "cell_type": "markdown",
   "id": "c47c736f",
   "metadata": {},
   "source": [
    "Let's see how many times each genre appears in the data."
   ]
  },
  {
   "cell_type": "code",
   "execution_count": 15,
   "id": "6a0b9072",
   "metadata": {},
   "outputs": [],
   "source": [
    "# remove '|' in the genres column\n",
    "movies['genres'] = movies['genres'].str.replace('|',' ')"
   ]
  },
  {
   "cell_type": "code",
   "execution_count": 16,
   "id": "f9f128ce",
   "metadata": {},
   "outputs": [],
   "source": [
    "# count the number of occurences for each genre in the data set\n",
    "counts = dict()\n",
    "\n",
    "for i in movies.index:\n",
    "  for g in movies.loc[i,'genres'].split(' '):\n",
    "    if g not in counts:\n",
    "      counts[g] = 1\n",
    "    else:\n",
    "      counts[g] = counts[g] + 1"
   ]
  },
  {
   "cell_type": "code",
   "execution_count": 17,
   "id": "837807ec",
   "metadata": {},
   "outputs": [
    {
     "data": {
      "text/plain": [
       "Text(0, 0.5, 'Counts')"
      ]
     },
     "execution_count": 17,
     "metadata": {},
     "output_type": "execute_result"
    },
    {
     "data": {
      "image/png": "[encoded data removed]",
      "text/plain": [
       "<Figure size 864x432 with 1 Axes>"
      ]
     },
     "metadata": {
      "needs_background": "light"
     },
     "output_type": "display_data"
    }
   ],
   "source": [
    "plt.figure(figsize=(12,6))\n",
    "plt.bar(list(counts.keys()), counts.values(), color='g')\n",
    "plt.xticks(rotation=45)\n",
    "plt.xlabel('Genres')\n",
    "plt.ylabel('Counts')"
   ]
  },
  {
   "cell_type": "markdown",
   "id": "dfa561a0",
   "metadata": {},
   "source": [
    "Term Frequency and Inverse Document Frequency (tf-idf)\n",
    "\n",
    "The TfidVectorizer() class from the sklearn.feature_extraction.text library helps us to calculate the tf-idf scores for each genre in each movie."
   ]
  },
  {
   "cell_type": "code",
   "execution_count": 18,
   "id": "effaaffa",
   "metadata": {},
   "outputs": [],
   "source": [
    "from sklearn.feature_extraction.text import TfidfVectorizer\n",
    "\n",
    "movies['genres'] = movies['genres'].str.replace('Sci-Fi','SciFi')\n",
    "movies['genres'] = movies['genres'].str.replace('Film-Noir','Noir')\n",
    "\n",
    "tfidf_vector = TfidfVectorizer(stop_words='english') # create an object for TfidfVectorizer\n",
    "tfidf_matrix = tfidf_vector.fit_transform(movies['genres']) # apply the object to the genres column"
   ]
  },
  {
   "cell_type": "code",
   "execution_count": 19,
   "id": "cffe07b8",
   "metadata": {},
   "outputs": [
    {
     "name": "stdout",
     "output_type": "stream",
     "text": [
      "[(0, 'action'), (1, 'adventure'), (2, 'animation'), (3, 'children'), (4, 'comedy'), (5, 'crime'), (6, 'documentary'), (7, 'drama'), (8, 'fantasy'), (9, 'horror'), (10, 'imax'), (11, 'musical'), (12, 'mystery'), (13, 'noir'), (14, 'romance'), (15, 'scifi'), (16, 'thriller'), (17, 'war'), (18, 'western')]\n"
     ]
    }
   ],
   "source": [
    "print(list(enumerate(tfidf_vector.get_feature_names())))"
   ]
  },
  {
   "cell_type": "markdown",
   "id": "f0752548",
   "metadata": {},
   "source": [
    "Let's see the examples of the vectorization for the first 5 movies."
   ]
  },
  {
   "cell_type": "code",
   "execution_count": 20,
   "id": "a10a9a99",
   "metadata": {},
   "outputs": [
    {
     "name": "stdout",
     "output_type": "stream",
     "text": [
      "  (0, 8)\t0.48301747178653426\n",
      "  (0, 4)\t0.26738777563975086\n",
      "  (0, 3)\t0.5048957307474672\n",
      "  (0, 2)\t0.5162876752057701\n",
      "  (0, 1)\t0.41680359510322523\n",
      "  (1, 8)\t0.5936766667075072\n",
      "  (1, 3)\t0.6205672299106341\n",
      "  (1, 1)\t0.5122932056626417\n",
      "  (2, 14)\t0.8211549883098352\n",
      "  (2, 4)\t0.5707052524498741\n",
      "  (3, 7)\t0.46621627821471856\n",
      "  (3, 14)\t0.7264518207332316\n",
      "  (3, 4)\t0.5048862585582906\n",
      "  (4, 4)\t1.0\n"
     ]
    }
   ],
   "source": [
    "print(tfidf_matrix[:5])"
   ]
  },
  {
   "cell_type": "markdown",
   "id": "8f1674ff",
   "metadata": {},
   "source": [
    "The first argument in the index above is the same as the index in the dataframe movies (Not movieId), and the second argument represents the index number of genres. The numbers in the second argument correspond to the index number in the previous code output. [(0, 'action'), (1, 'adventure'), (3, 'children'),...] For example, (0,8) = 0.4830 means that movie index = 0 (Toy Story), genre index = 8 ('fantasy'), and the tf-idf score = 0.4830. The tf-idf score of comedy for Toy Story is (0,4)=0.2674. As mentioned earlier, the comedy has lower score than fantasy because it is very common genre in the whole data set, and is considered less important in defining the genre of the movie."
   ]
  },
  {
   "cell_type": "code",
   "execution_count": 21,
   "id": "747ec8f7",
   "metadata": {},
   "outputs": [
    {
     "data": {
      "text/plain": [
       "(9708, 19)"
      ]
     },
     "execution_count": 21,
     "metadata": {},
     "output_type": "execute_result"
    }
   ],
   "source": [
    "tfidf_matrix.shape"
   ]
  },
  {
   "cell_type": "code",
   "execution_count": 22,
   "id": "0d1eebfe",
   "metadata": {},
   "outputs": [
    {
     "data": {
      "text/plain": [
       "matrix([[0.        , 0.4168036 , 0.51628768, 0.50489573, 0.26738778,\n",
       "         0.        , 0.        , 0.        , 0.48301747, 0.        ,\n",
       "         0.        , 0.        , 0.        , 0.        , 0.        ,\n",
       "         0.        , 0.        , 0.        , 0.        ]])"
      ]
     },
     "execution_count": 22,
     "metadata": {},
     "output_type": "execute_result"
    }
   ],
   "source": [
    "# the first row vector of tfidf_matrix (Toy Story)\n",
    "tfidf_matrix.todense()[0]"
   ]
  },
  {
   "cell_type": "markdown",
   "id": "d68d5f7c",
   "metadata": {},
   "source": [
    "Next, let's caculate the similarity between two movies using the tf-idf matrix. The cosine similarity is used to calculate the similarity, and linear_kernel() class is used to calculate this."
   ]
  },
  {
   "cell_type": "code",
   "execution_count": 23,
   "id": "71878c0b",
   "metadata": {},
   "outputs": [],
   "source": [
    "from sklearn.metrics.pairwise import linear_kernel"
   ]
  },
  {
   "cell_type": "code",
   "execution_count": 24,
   "id": "df21c32e",
   "metadata": {},
   "outputs": [
    {
     "name": "stdout",
     "output_type": "stream",
     "text": [
      "[[1.         0.8136036  0.15259961 ... 0.         0.42114166 0.26738778]\n",
      " [0.8136036  1.         0.         ... 0.         0.         0.        ]\n",
      " [0.15259961 0.         1.         ... 0.         0.         0.57070525]\n",
      " ...\n",
      " [0.         0.         0.         ... 1.         0.         0.        ]\n",
      " [0.42114166 0.         0.         ... 0.         1.         0.        ]\n",
      " [0.26738778 0.         0.57070525 ... 0.         0.         1.        ]]\n"
     ]
    }
   ],
   "source": [
    "sim_matrix = linear_kernel(tfidf_matrix,tfidf_matrix) # create the cosine similarity matrix\n",
    "print(sim_matrix)"
   ]
  },
  {
   "cell_type": "markdown",
   "id": "bb46c095",
   "metadata": {},
   "source": [
    "sim_matrix$_{ij}$ is the similarity score between movie $i$ and movie $j$.Therefore, the diagonal elements in the matrix represent the similarity scores of a movie with itself, and therefore, the value should be 1. By the definition of the matrix, sim_matrix$_{ij}$ = sim_matrix$_{ji}$"
   ]
  },
  {
   "cell_type": "markdown",
   "id": "f9c5fa61",
   "metadata": {},
   "source": [
    "the Recommendation Engine"
   ]
  },
  {
   "cell_type": "code",
   "execution_count": 32,
   "id": "874a14a3",
   "metadata": {},
   "outputs": [],
   "source": [
    "# the function to convert from index to title_year\n",
    "def get_title_year_from_index(index):\n",
    "\n",
    "  return movies[movies.index == index]['title_year'].values[0]\n",
    "\n",
    "# the function to convert from title to index\n",
    "def get_index_from_title(title):\n",
    "\n",
    "  return movies[movies.title == title].index.values[0]\n",
    "\n",
    "# a function to convert index to title\n",
    "def get_title_from_index(index):\n",
    "\n",
    "  return movies[movies.index == index]['title'].values[0]"
   ]
  },
  {
   "cell_type": "markdown",
   "id": "9a0e02a0",
   "metadata": {},
   "source": [
    "Apply Levenshtein Distance for 'Did you mean?' Algorithm"
   ]
  },
  {
   "cell_type": "markdown",
   "id": "db13cb1e",
   "metadata": {},
   "source": [
    "We often misspell titles of movies when we use movie recommending system. When we use Google to search movies, if we misspell the title of the movie, we see that Google asks us, 'Did you mean...?'. Let's create the similar function to correct misspelled title in order to make the system work easily. I apply Levenshtein Distance in order to implement 'Did you mean...?' algorithm. fuzzywuzzy library in Python provides fuzz class for the Levenshtein Distance."
   ]
  },
  {
   "cell_type": "code",
   "execution_count": 27,
   "id": "f2dbdf3b",
   "metadata": {},
   "outputs": [
    {
     "name": "stdout",
     "output_type": "stream",
     "text": [
      "Collecting fuzzywuzzy\n",
      "  Downloading fuzzywuzzy-0.18.0-py2.py3-none-any.whl (18 kB)\n",
      "Installing collected packages: fuzzywuzzy\n",
      "Successfully installed fuzzywuzzy-0.18.0\n",
      "\u001b[33mWARNING: You are using pip version 21.1.2; however, version 21.2.4 is available.\n",
      "You should consider upgrading via the '/home/ec2-user/anaconda3/envs/python3/bin/python -m pip install --upgrade pip' command.\u001b[0m\n"
     ]
    }
   ],
   "source": [
    "!pip install fuzzywuzzy"
   ]
  },
  {
   "cell_type": "code",
   "execution_count": 29,
   "id": "1770a43c",
   "metadata": {},
   "outputs": [
    {
     "name": "stdout",
     "output_type": "stream",
     "text": [
      "Collecting python-Levenshtein\n",
      "  Downloading python-Levenshtein-0.12.2.tar.gz (50 kB)\n",
      "\u001b[K     |████████████████████████████████| 50 kB 8.1 MB/s  eta 0:00:01\n",
      "\u001b[?25hRequirement already satisfied: setuptools in /home/ec2-user/anaconda3/envs/python3/lib/python3.6/site-packages (from python-Levenshtein) (49.6.0.post20210108)\n",
      "Building wheels for collected packages: python-Levenshtein\n",
      "  Building wheel for python-Levenshtein (setup.py) ... \u001b[?25ldone\n",
      "\u001b[?25h  Created wheel for python-Levenshtein: filename=python_Levenshtein-0.12.2-cp36-cp36m-linux_x86_64.whl size=155938 sha256=e88aa457701c92b9c0c86587e145589f41436e5afa44c8e5e82a2084926a2d3a\n",
      "  Stored in directory: /home/ec2-user/.cache/pip/wheels/4a/a4/bf/d761b0899395c75fa76d003d607b3869ee47f5035b8afc30a2\n",
      "Successfully built python-Levenshtein\n",
      "Installing collected packages: python-Levenshtein\n",
      "Successfully installed python-Levenshtein-0.12.2\n",
      "\u001b[33mWARNING: You are using pip version 21.1.2; however, version 21.2.4 is available.\n",
      "You should consider upgrading via the '/home/ec2-user/anaconda3/envs/python3/bin/python -m pip install --upgrade pip' command.\u001b[0m\n"
     ]
    }
   ],
   "source": [
    "!pip install python-Levenshtein"
   ]
  },
  {
   "cell_type": "code",
   "execution_count": 30,
   "id": "15df2c55",
   "metadata": {},
   "outputs": [],
   "source": [
    "from fuzzywuzzy import fuzz"
   ]
  },
  {
   "cell_type": "code",
   "execution_count": 31,
   "id": "ca0ab41e",
   "metadata": {},
   "outputs": [],
   "source": [
    "# create a function to find the closest title\n",
    "def matching_score(a,b):\n",
    "\n",
    "  return fuzz.ratio(a,b)"
   ]
  },
  {
   "cell_type": "markdown",
   "id": "f564f2c3",
   "metadata": {},
   "source": [
    "fuzz.ratio(a,b) calculates the Levenshtein Distance between a and b, and return the score for the distance. If the two words, a and b, are exactly the same, the score becomes 100. As the distance between the words increases, the score falls."
   ]
  },
  {
   "cell_type": "code",
   "execution_count": 34,
   "id": "50c7769c",
   "metadata": {},
   "outputs": [],
   "source": [
    "# the function to return the most similar title to the words a user types\n",
    "# The function find_closest_title() is supposed to return the most similar title to the words a user types. \n",
    "# Without this, the recommending system only works when the movie title a user types is exactly the same \n",
    "# as the movie title the system has\n",
    "\n",
    "def find_closest_title(title):\n",
    "\n",
    "  leven_scores = list(enumerate(movies['title'].apply(matching_score, b=title)))\n",
    "  sorted_leven_scores = sorted(leven_scores, key=lambda x: x[1], reverse=True)\n",
    "  closest_title = get_title_from_index(sorted_leven_scores[0][0])\n",
    "  distance_score = sorted_leven_scores[0][1]\n",
    "\n",
    "  return closest_title, distance_score"
   ]
  },
  {
   "cell_type": "code",
   "execution_count": 35,
   "id": "4fcc9160",
   "metadata": {},
   "outputs": [],
   "source": [
    "# the main recommender\n",
    "def contents_based_recommender(movie_user_likes, how_many):\n",
    "\n",
    "  closest_title, distance_score = find_closest_title(movie_user_likes)\n",
    "\n",
    "  if distance_score == 100:\n",
    "\n",
    "    movie_index = get_index_from_title(closest_title)\n",
    "    movie_list = list(enumerate(sim_matrix[int(movie_index)]))\n",
    "    similar_movies = list(filter(lambda x:x[0] != int(movie_index), sorted(movie_list,key=lambda x:x[1], reverse=True))) # remove the typed movie itself\n",
    "\n",
    "    print('Here\\'s the list of movies similar to '+'\\033[1m'+str(closest_title)+'\\033[0m'+'.\\n')\n",
    "\n",
    "    for i,s in similar_movies[:how_many]: \n",
    "      print(get_title_year_from_index(i))\n",
    "    \n",
    "\n",
    "  else:\n",
    "    print('Did you mean '+'\\033[1m'+str(closest_title)+'\\033[0m'+'?','\\n')\n",
    "\n",
    "    movie_index = get_index_from_title(closest_title)\n",
    "    movie_list = list(enumerate(sim_matrix[int(movie_index)]))\n",
    "    similar_movies = list(filter(lambda x:x[0] != int(movie_index), sorted(movie_list,key=lambda x:x[1], reverse=True)))\n",
    "\n",
    "    print('Here\\'s the list of movies similar to '+'\\033[1m'+str(closest_title)+'\\033[0m'+'.\\n')\n",
    "\n",
    "    for i,s in similar_movies[:how_many]:\n",
    "      print(get_title_year_from_index(i))"
   ]
  },
  {
   "cell_type": "code",
   "execution_count": 38,
   "id": "e0b4dd32",
   "metadata": {},
   "outputs": [
    {
     "name": "stdout",
     "output_type": "stream",
     "text": [
      "Here's the list of movies similar to \u001b[1mMonsters, Inc.\u001b[0m.\n",
      "\n",
      "Toy Story (1995)\n",
      "Antz (1998)\n",
      "Toy Story 2 (1999)\n",
      "Adventures of Rocky and Bullwinkle, The (2000)\n",
      "Emperor's New Groove, The (2000)\n"
     ]
    }
   ],
   "source": [
    "# testing the system\n",
    "contents_based_recommender('Monsters, Inc.', 5)"
   ]
  },
  {
   "cell_type": "code",
   "execution_count": 37,
   "id": "b29b4fa6",
   "metadata": {},
   "outputs": [
    {
     "name": "stdout",
     "output_type": "stream",
     "text": [
      "Did you mean \u001b[1mMonsters, Inc.\u001b[0m? \n",
      "\n",
      "Here's the list of movies similar to \u001b[1mMonsters, Inc.\u001b[0m.\n",
      "\n",
      "Toy Story (1995)\n",
      "Antz (1998)\n",
      "Toy Story 2 (1999)\n",
      "Adventures of Rocky and Bullwinkle, The (2000)\n",
      "Emperor's New Groove, The (2000)\n"
     ]
    }
   ],
   "source": [
    "# testing with incorrect name\n",
    "\n",
    "contents_based_recommender('Monster Incorporation.', 5)"
   ]
  },
  {
   "cell_type": "code",
   "execution_count": 40,
   "id": "0c42ffc4",
   "metadata": {},
   "outputs": [
    {
     "name": "stdout",
     "output_type": "stream",
     "text": [
      "Here's the list of movies similar to \u001b[1mGrumpier Old Men\u001b[0m.\n",
      "\n",
      "Sabrina (1995)\n",
      "Clueless (1995)\n",
      "Two if by Sea (1996)\n",
      "French Twist (Gazon maudit) (1995)\n",
      "If Lucy Fell (1996)\n"
     ]
    }
   ],
   "source": [
    "# testing the system\n",
    "contents_based_recommender('Grumpier Old Men', 5)"
   ]
  },
  {
   "cell_type": "code",
   "execution_count": 41,
   "id": "169fbc29",
   "metadata": {},
   "outputs": [
    {
     "name": "stdout",
     "output_type": "stream",
     "text": [
      "Did you mean \u001b[1mGrumpier Old Men\u001b[0m? \n",
      "\n",
      "Here's the list of movies similar to \u001b[1mGrumpier Old Men\u001b[0m.\n",
      "\n",
      "Sabrina (1995)\n",
      "Clueless (1995)\n",
      "Two if by Sea (1996)\n",
      "French Twist (Gazon maudit) (1995)\n",
      "If Lucy Fell (1996)\n"
     ]
    }
   ],
   "source": [
    "# testing the system\n",
    "contents_based_recommender('Grumpr Ol Men', 5)"
   ]
  },
  {
   "cell_type": "code",
   "execution_count": null,
   "id": "792f2db9",
   "metadata": {},
   "outputs": [],
   "source": []
  }
 ],
 "metadata": {
  "kernelspec": {
   "display_name": "conda_python3",
   "language": "python",
   "name": "conda_python3"
  },
  "language_info": {
   "codemirror_mode": {
    "name": "ipython",
    "version": 3
   },
   "file_extension": ".py",
   "mimetype": "text/x-python",
   "name": "python",
   "nbconvert_exporter": "python",
   "pygments_lexer": "ipython3",
   "version": "3.6.13"
  }
 },
 "nbformat": 4,
 "nbformat_minor": 5
}
